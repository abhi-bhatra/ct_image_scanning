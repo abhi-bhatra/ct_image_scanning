{
 "cells": [
  {
   "cell_type": "code",
   "execution_count": 1,
   "metadata": {},
   "outputs": [],
   "source": [
    "import os\n",
    "from flask import Flask, flash, request, redirect, url_for, render_template\n",
    "from werkzeug.utils import secure_filename\n",
    "from azure.cognitiveservices.vision.customvision.prediction import CustomVisionPredictionClient\n",
    "from msrest.authentication import ApiKeyCredentials\n",
    "from dotenv import load_dotenv\n",
    "import tensorflow as tf\n",
    "import tensorflow_hub as hub\n",
    "import pydicom as dicom\n",
    "from skimage.transform import resize\n",
    "import cv2\n",
    "import numpy as np"
   ]
  },
  {
   "cell_type": "code",
   "execution_count": 2,
   "metadata": {},
   "outputs": [],
   "source": [
    "UPLOAD_FOLDER = 'static/uploads/'\n",
    "ENDPOINT = os.environ['ENDPOINT']\n",
    "prediction_key = os.environ['PREDICTION_KEY']\n",
    "project_id = os.environ['PROJECT_ID']"
   ]
  },
  {
   "cell_type": "code",
   "execution_count": 3,
   "metadata": {},
   "outputs": [],
   "source": [
    "prediction_credentials = ApiKeyCredentials(\n",
    "    in_headers={\"Prediction-key\": prediction_key})\n",
    "predictor = CustomVisionPredictionClient(ENDPOINT, prediction_credentials)"
   ]
  },
  {
   "cell_type": "code",
   "execution_count": 4,
   "metadata": {},
   "outputs": [],
   "source": [
    "publish_iteration_name = \"Iteration2\"\n",
    "PNG = False"
   ]
  },
  {
   "cell_type": "code",
   "execution_count": 5,
   "metadata": {},
   "outputs": [],
   "source": [
    "def predict(image_path):\n",
    "    model_h5 = tf.keras.models.load_model(\n",
    "    './model_dicom_cancer.h5', custom_objects={'KerasLayer': hub.KerasLayer})\n",
    "\n",
    "    pred90 = model_h5.predict(image_path.reshape(1,256, 256, 1))\n",
    "    pred90 = pred90[0][1]*100\n",
    "    if int(pred90) < 90:\n",
    "        val='Normal'\n",
    "    else:\n",
    "        val='Cancer'\n",
    "    return val"
   ]
  },
  {
   "cell_type": "code",
   "execution_count": 25,
   "metadata": {},
   "outputs": [],
   "source": [
    "file_url=\"E:\\\\GSoC\\\\ct_imaging\\\\cancer_app\\\\static\\\\uploads\\\\ID_0007_AGE_0061_CONTRAST_1_CT.dcm\"\n",
    "ds = dicom.dcmread(file_url)\n",
    "test90 = ds.pixel_array\n",
    "IMG_PX_SIZE = 256\n",
    "resized90 = resize(test90, (IMG_PX_SIZE, IMG_PX_SIZE, 1), anti_aliasing=True)\n",
    "\n",
    "test91 = ds.pixel_array.astype(float)\n",
    "threshold = 500\n",
    "test91 = (np.maximum(test91, 0) / (np.amax(test91) + threshold)) * 255.0"
   ]
  },
  {
   "cell_type": "code",
   "execution_count": 13,
   "metadata": {},
   "outputs": [
    {
     "ename": "error",
     "evalue": "OpenCV(4.6.0) :-1: error: (-5:Bad argument) in function 'imwrite'\n> Overload resolution failed:\n>  - Can't convert object to 'str' for 'filename'\n>  - Can't convert object to 'str' for 'filename'\n",
     "output_type": "error",
     "traceback": [
      "\u001b[1;31m---------------------------------------------------------------------------\u001b[0m",
      "\u001b[1;31merror\u001b[0m                                     Traceback (most recent call last)",
      "\u001b[1;32me:\\GSoC\\ct_imaging\\cancer_app\\test.ipynb Cell 7\u001b[0m in \u001b[0;36m<cell line: 5>\u001b[1;34m()\u001b[0m\n\u001b[0;32m      <a href='vscode-notebook-cell:/e%3A/GSoC/ct_imaging/cancer_app/test.ipynb#ch0000006?line=2'>3</a>\u001b[0m \u001b[39melse\u001b[39;00m:\n\u001b[0;32m      <a href='vscode-notebook-cell:/e%3A/GSoC/ct_imaging/cancer_app/test.ipynb#ch0000006?line=3'>4</a>\u001b[0m     filename \u001b[39m=\u001b[39m file_url\u001b[39m.\u001b[39mreplace(\u001b[39m'\u001b[39m\u001b[39m.dcm\u001b[39m\u001b[39m'\u001b[39m, \u001b[39m'\u001b[39m\u001b[39m.png\u001b[39m\u001b[39m'\u001b[39m)\n\u001b[1;32m----> <a href='vscode-notebook-cell:/e%3A/GSoC/ct_imaging/cancer_app/test.ipynb#ch0000006?line=4'>5</a>\u001b[0m cv2\u001b[39m.\u001b[39;49mimwrite((UPLOAD_FOLDER, file_url), test91)\n",
      "\u001b[1;31merror\u001b[0m: OpenCV(4.6.0) :-1: error: (-5:Bad argument) in function 'imwrite'\n> Overload resolution failed:\n>  - Can't convert object to 'str' for 'filename'\n>  - Can't convert object to 'str' for 'filename'\n"
     ]
    }
   ],
   "source": [
    "if PNG == False:\n",
    "    filename = file_url.replace('.dcm', '.jpg')\n",
    "else:\n",
    "    filename = file_url.replace('.dcm', '.png')\n",
    "cv2.imwrite((UPLOAD_FOLDER, file_url), test91)"
   ]
  },
  {
   "cell_type": "code",
   "execution_count": 26,
   "metadata": {},
   "outputs": [
    {
     "name": "stdout",
     "output_type": "stream",
     "text": [
      "WARNING:tensorflow:6 out of the last 6 calls to <function Model.make_predict_function.<locals>.predict_function at 0x0000024158044EE0> triggered tf.function retracing. Tracing is expensive and the excessive number of tracings could be due to (1) creating @tf.function repeatedly in a loop, (2) passing tensors with different shapes, (3) passing Python objects instead of tensors. For (1), please define your @tf.function outside of the loop. For (2), @tf.function has reduce_retracing=True option that can avoid unnecessary retracing. For (3), please refer to https://www.tensorflow.org/guide/function#controlling_retracing and https://www.tensorflow.org/api_docs/python/tf/function for  more details.\n",
      "1/1 [==============================] - 0s 90ms/step\n",
      "not Medical DCM\n"
     ]
    }
   ],
   "source": [
    "# with open(os.path.join(app.config['UPLOAD_FOLDER'], filename), 'rb') as image_contents:\n",
    "ct_image=''\n",
    "filename = \"E:\\\\GSoC\\\\ct_imaging\\\\cancer_app\\\\static\\\\uploads\\\\ID_0007_AGE_0061_CONTRAST_1_CT.jpg\"\n",
    "with open(filename, 'rb') as image_contents:\n",
    "    results=predictor.classify_image(project_id, publish_iteration_name, image_contents.read())\n",
    "    for prediction in results.predictions:\n",
    "        if prediction.probability * 100 > 99:\n",
    "            if prediction.tag_name == \"chest\":\n",
    "                # print(prediction.probability * 100, \" \", prediction.tag_name)\n",
    "                ct_image=predict(resized90)\n",
    "                ct_image=''.join(ct_image)\n",
    "            else:\n",
    "                ct_image='Non-chest DCM'\n",
    "        else:\n",
    "            ct_image='not Medical DCM'\n",
    "\n",
    "print(ct_image)"
   ]
  },
  {
   "cell_type": "code",
   "execution_count": null,
   "metadata": {},
   "outputs": [],
   "source": []
  }
 ],
 "metadata": {
  "kernelspec": {
   "display_name": "Python 3.9.7 64-bit (system)",
   "language": "python",
   "name": "python3"
  },
  "language_info": {
   "codemirror_mode": {
    "name": "ipython",
    "version": 3
   },
   "file_extension": ".py",
   "mimetype": "text/x-python",
   "name": "python",
   "nbconvert_exporter": "python",
   "pygments_lexer": "ipython3",
   "version": "3.9.7"
  },
  "orig_nbformat": 4,
  "vscode": {
   "interpreter": {
    "hash": "a7d8cb0326397c460ffed8c21d27be62f953c3ebe23192199009c94721ac0529"
   }
  }
 },
 "nbformat": 4,
 "nbformat_minor": 2
}
