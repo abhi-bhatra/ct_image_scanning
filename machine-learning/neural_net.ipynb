{
 "cells": [
  {
   "cell_type": "code",
   "execution_count": 1,
   "metadata": {},
   "outputs": [],
   "source": [
    "import os\n",
    "from os.path import exists\n",
    "\n",
    "import tensorflow as tf\n",
    "\n",
    "img_shape = (512,512,3)\n",
    "BATCH_SIZE = 1\n",
    "IMG_SIZE = (512, 512)\n",
    "\n",
    "PATH=\"E:\\\\GSoC\\\\ct_imaging\\\\ML_MODEL\\\\dataset\"\n",
    "train_dir=os.path.join(PATH, 'train')\n",
    "validation_dir=os.path.join(PATH, 'validation')"
   ]
  },
  {
   "cell_type": "code",
   "execution_count": 2,
   "metadata": {},
   "outputs": [
    {
     "name": "stdout",
     "output_type": "stream",
     "text": [
      "Found 79 files belonging to 2 classes.\n",
      "Found 20 files belonging to 2 classes.\n"
     ]
    }
   ],
   "source": [
    "train_dataset = tf.keras.utils.image_dataset_from_directory(\n",
    "    train_dir,\n",
    "    shuffle=True,\n",
    "    batch_size=BATCH_SIZE,\n",
    "    image_size=IMG_SIZE\n",
    ")\n",
    "\n",
    "validation_dataset = tf.keras.utils.image_dataset_from_directory(\n",
    "    validation_dir,\n",
    "    shuffle=True,\n",
    "    batch_size=BATCH_SIZE,\n",
    "    image_size=IMG_SIZE\n",
    ")"
   ]
  },
  {
   "cell_type": "code",
   "execution_count": 3,
   "metadata": {},
   "outputs": [
    {
     "name": "stdout",
     "output_type": "stream",
     "text": [
      "Model: \"model\"\n",
      "_________________________________________________________________\n",
      " Layer (type)                Output Shape              Param #   \n",
      "=================================================================\n",
      " input_1 (InputLayer)        [(None, 512, 512, 3)]     0         \n",
      "                                                                 \n",
      " block1_conv1 (Conv2D)       (None, 512, 512, 64)      1792      \n",
      "                                                                 \n",
      " block1_conv2 (Conv2D)       (None, 512, 512, 64)      36928     \n",
      "                                                                 \n",
      " block1_pool (MaxPooling2D)  (None, 256, 256, 64)      0         \n",
      "                                                                 \n",
      " block2_conv1 (Conv2D)       (None, 256, 256, 128)     73856     \n",
      "                                                                 \n",
      " block2_conv2 (Conv2D)       (None, 256, 256, 128)     147584    \n",
      "                                                                 \n",
      " block2_pool (MaxPooling2D)  (None, 128, 128, 128)     0         \n",
      "                                                                 \n",
      " block3_conv1 (Conv2D)       (None, 128, 128, 256)     295168    \n",
      "                                                                 \n",
      " block3_conv2 (Conv2D)       (None, 128, 128, 256)     590080    \n",
      "                                                                 \n",
      " block3_conv3 (Conv2D)       (None, 128, 128, 256)     590080    \n",
      "                                                                 \n",
      " block3_conv4 (Conv2D)       (None, 128, 128, 256)     590080    \n",
      "                                                                 \n",
      " block3_pool (MaxPooling2D)  (None, 64, 64, 256)       0         \n",
      "                                                                 \n",
      " block4_conv1 (Conv2D)       (None, 64, 64, 512)       1180160   \n",
      "                                                                 \n",
      " block4_conv2 (Conv2D)       (None, 64, 64, 512)       2359808   \n",
      "                                                                 \n",
      " block4_conv3 (Conv2D)       (None, 64, 64, 512)       2359808   \n",
      "                                                                 \n",
      " block4_conv4 (Conv2D)       (None, 64, 64, 512)       2359808   \n",
      "                                                                 \n",
      " block4_pool (MaxPooling2D)  (None, 32, 32, 512)       0         \n",
      "                                                                 \n",
      " block5_conv1 (Conv2D)       (None, 32, 32, 512)       2359808   \n",
      "                                                                 \n",
      " block5_conv2 (Conv2D)       (None, 32, 32, 512)       2359808   \n",
      "                                                                 \n",
      " block5_conv3 (Conv2D)       (None, 32, 32, 512)       2359808   \n",
      "                                                                 \n",
      " block5_conv4 (Conv2D)       (None, 32, 32, 512)       2359808   \n",
      "                                                                 \n",
      " block5_pool (MaxPooling2D)  (None, 16, 16, 512)       0         \n",
      "                                                                 \n",
      " global_average_pooling2d (G  (None, 512)              0         \n",
      " lobalAveragePooling2D)                                          \n",
      "                                                                 \n",
      " dense (Dense)               (None, 1)                 513       \n",
      "                                                                 \n",
      "=================================================================\n",
      "Total params: 20,024,897\n",
      "Trainable params: 513\n",
      "Non-trainable params: 20,024,384\n",
      "_________________________________________________________________\n"
     ]
    }
   ],
   "source": [
    "base_model = tf.keras.applications.VGG19(input_shape=img_shape, include_top=False, weights='imagenet')\n",
    "base_model.trainable = False\n",
    "global_average_layer = tf.keras.layers.GlobalAveragePooling2D()(base_model.output)\n",
    "prediction_layer = tf.keras.layers.Dense(units=1, activation='sigmoid')(global_average_layer)\n",
    "\n",
    "model = tf.keras.models.Model(inputs=base_model.input, outputs=prediction_layer)\n",
    "model.summary()"
   ]
  },
  {
   "cell_type": "code",
   "execution_count": 4,
   "metadata": {},
   "outputs": [],
   "source": [
    "opt = tf.keras.optimizers.RMSprop(learning_rate=0.0001)\n",
    "model.compile(optimizer=opt, loss='binary_crossentropy', metrics=['accuracy'])"
   ]
  },
  {
   "cell_type": "code",
   "execution_count": 41,
   "metadata": {},
   "outputs": [
    {
     "name": "stdout",
     "output_type": "stream",
     "text": [
      "Epoch 1/50\n",
      "79/79 [==============================] - 89s 1s/step - loss: 0.9363 - accuracy: 0.4051\n",
      "Epoch 2/50\n",
      "79/79 [==============================] - 93s 1s/step - loss: 0.8605 - accuracy: 0.4430\n",
      "Epoch 3/50\n",
      "79/79 [==============================] - 96s 1s/step - loss: 0.8356 - accuracy: 0.5570\n",
      "Epoch 4/50\n",
      "79/79 [==============================] - 96s 1s/step - loss: 0.8207 - accuracy: 0.4937\n",
      "Epoch 5/50\n",
      "79/79 [==============================] - 96s 1s/step - loss: 0.8109 - accuracy: 0.5570\n",
      "Epoch 6/50\n",
      "79/79 [==============================] - 96s 1s/step - loss: 0.7978 - accuracy: 0.5443\n",
      "Epoch 7/50\n",
      "79/79 [==============================] - 96s 1s/step - loss: 0.7865 - accuracy: 0.5823\n",
      "Epoch 8/50\n",
      "79/79 [==============================] - 96s 1s/step - loss: 0.7727 - accuracy: 0.5823\n",
      "Epoch 9/50\n",
      "79/79 [==============================] - 94s 1s/step - loss: 0.7641 - accuracy: 0.6076\n",
      "Epoch 10/50\n",
      "79/79 [==============================] - 94s 1s/step - loss: 0.7542 - accuracy: 0.5949\n",
      "Epoch 11/50\n",
      "79/79 [==============================] - 93s 1s/step - loss: 0.7431 - accuracy: 0.5949\n",
      "Epoch 12/50\n",
      "79/79 [==============================] - 94s 1s/step - loss: 0.7281 - accuracy: 0.5949\n",
      "Epoch 13/50\n",
      "79/79 [==============================] - 95s 1s/step - loss: 0.7138 - accuracy: 0.6076\n",
      "Epoch 14/50\n",
      "79/79 [==============================] - 94s 1s/step - loss: 0.7107 - accuracy: 0.6076\n",
      "Epoch 15/50\n",
      "79/79 [==============================] - 92s 1s/step - loss: 0.6976 - accuracy: 0.6329\n",
      "Epoch 16/50\n",
      "79/79 [==============================] - 92s 1s/step - loss: 0.6894 - accuracy: 0.6456\n",
      "Epoch 17/50\n",
      "79/79 [==============================] - 114s 1s/step - loss: 0.6794 - accuracy: 0.6203\n",
      "Epoch 18/50\n",
      "79/79 [==============================] - 144s 2s/step - loss: 0.6709 - accuracy: 0.6203\n",
      "Epoch 19/50\n",
      "79/79 [==============================] - 144s 2s/step - loss: 0.6604 - accuracy: 0.6582\n",
      "Epoch 20/50\n",
      "79/79 [==============================] - 93s 1s/step - loss: 0.6501 - accuracy: 0.6709\n",
      "Epoch 21/50\n",
      "79/79 [==============================] - 92s 1s/step - loss: 0.6411 - accuracy: 0.6709\n",
      "Epoch 22/50\n",
      "79/79 [==============================] - 92s 1s/step - loss: 0.6349 - accuracy: 0.6582\n",
      "Epoch 23/50\n",
      "79/79 [==============================] - 92s 1s/step - loss: 0.6292 - accuracy: 0.6456\n",
      "Epoch 24/50\n",
      "79/79 [==============================] - 92s 1s/step - loss: 0.6179 - accuracy: 0.6835\n",
      "Epoch 25/50\n",
      "79/79 [==============================] - 92s 1s/step - loss: 0.6110 - accuracy: 0.6835\n",
      "Epoch 26/50\n",
      "79/79 [==============================] - 95s 1s/step - loss: 0.6046 - accuracy: 0.6962\n",
      "Epoch 27/50\n",
      "79/79 [==============================] - 93s 1s/step - loss: 0.5972 - accuracy: 0.6709\n",
      "Epoch 28/50\n",
      "79/79 [==============================] - 92s 1s/step - loss: 0.5871 - accuracy: 0.6835\n",
      "Epoch 29/50\n",
      "79/79 [==============================] - 92s 1s/step - loss: 0.5833 - accuracy: 0.6709\n",
      "Epoch 30/50\n",
      "79/79 [==============================] - 93s 1s/step - loss: 0.5747 - accuracy: 0.6835\n",
      "Epoch 31/50\n",
      "79/79 [==============================] - 92s 1s/step - loss: 0.5693 - accuracy: 0.6962\n",
      "Epoch 32/50\n",
      "79/79 [==============================] - 98s 1s/step - loss: 0.5639 - accuracy: 0.7089\n",
      "Epoch 33/50\n",
      "79/79 [==============================] - 92s 1s/step - loss: 0.5558 - accuracy: 0.7089\n",
      "Epoch 34/50\n",
      "79/79 [==============================] - 92s 1s/step - loss: 0.5482 - accuracy: 0.7089\n",
      "Epoch 35/50\n",
      "79/79 [==============================] - 92s 1s/step - loss: 0.5440 - accuracy: 0.7342\n",
      "Epoch 36/50\n",
      "79/79 [==============================] - 92s 1s/step - loss: 0.5379 - accuracy: 0.7342\n",
      "Epoch 37/50\n",
      "79/79 [==============================] - 92s 1s/step - loss: 0.5288 - accuracy: 0.7089\n",
      "Epoch 38/50\n",
      "79/79 [==============================] - 92s 1s/step - loss: 0.5244 - accuracy: 0.7215\n",
      "Epoch 39/50\n",
      "79/79 [==============================] - 133s 2s/step - loss: 0.5218 - accuracy: 0.7468\n",
      "Epoch 40/50\n",
      "79/79 [==============================] - 90s 1s/step - loss: 0.5180 - accuracy: 0.7468\n",
      "Epoch 41/50\n",
      "79/79 [==============================] - 93s 1s/step - loss: 0.5097 - accuracy: 0.7342\n",
      "Epoch 42/50\n",
      "79/79 [==============================] - 97s 1s/step - loss: 0.5045 - accuracy: 0.7595\n",
      "Epoch 43/50\n",
      "79/79 [==============================] - 93s 1s/step - loss: 0.4982 - accuracy: 0.7342\n",
      "Epoch 44/50\n",
      "79/79 [==============================] - 93s 1s/step - loss: 0.4968 - accuracy: 0.7595\n",
      "Epoch 45/50\n",
      "79/79 [==============================] - 92s 1s/step - loss: 0.4906 - accuracy: 0.7595\n",
      "Epoch 46/50\n",
      "79/79 [==============================] - 92s 1s/step - loss: 0.4875 - accuracy: 0.7342\n",
      "Epoch 47/50\n",
      "79/79 [==============================] - 92s 1s/step - loss: 0.4823 - accuracy: 0.7342\n",
      "Epoch 48/50\n",
      "79/79 [==============================] - 93s 1s/step - loss: 0.4769 - accuracy: 0.7595\n",
      "Epoch 49/50\n",
      "79/79 [==============================] - 90s 1s/step - loss: 0.4735 - accuracy: 0.7595\n",
      "Epoch 50/50\n",
      "79/79 [==============================] - 94s 1s/step - loss: 0.4672 - accuracy: 0.8101\n"
     ]
    }
   ],
   "source": [
    "history = model.fit( train_dataset, batch_size=100, epochs=50 )"
   ]
  },
  {
   "cell_type": "code",
   "execution_count": 42,
   "metadata": {},
   "outputs": [
    {
     "data": {
      "text/plain": [
       "<keras.callbacks.History at 0x2a7c7bca760>"
      ]
     },
     "execution_count": 42,
     "metadata": {},
     "output_type": "execute_result"
    }
   ],
   "source": [
    "history"
   ]
  },
  {
   "cell_type": "code",
   "execution_count": 43,
   "metadata": {},
   "outputs": [],
   "source": [
    "model.save('image-model.h5')"
   ]
  },
  {
   "cell_type": "code",
   "execution_count": 44,
   "metadata": {},
   "outputs": [
    {
     "name": "stdout",
     "output_type": "stream",
     "text": [
      "Found 20 files belonging to 2 classes.\n"
     ]
    }
   ],
   "source": [
    "validation_dataset = tf.keras.utils.image_dataset_from_directory(\n",
    "    validation_dir,\n",
    "    shuffle=True,\n",
    "    batch_size=BATCH_SIZE,\n",
    "    image_size=IMG_SIZE\n",
    ")\n",
    "\n",
    "# model.evaluate(train_dataset)"
   ]
  },
  {
   "cell_type": "code",
   "execution_count": 45,
   "metadata": {},
   "outputs": [
    {
     "name": "stdout",
     "output_type": "stream",
     "text": [
      "20/20 [==============================] - 26s 1s/step - loss: 0.5430 - accuracy: 0.6500\n"
     ]
    },
    {
     "data": {
      "text/plain": [
       "[0.5430178642272949, 0.6499999761581421]"
      ]
     },
     "execution_count": 45,
     "metadata": {},
     "output_type": "execute_result"
    }
   ],
   "source": [
    "model.evaluate(validation_dataset)"
   ]
  },
  {
   "cell_type": "code",
   "execution_count": 47,
   "metadata": {},
   "outputs": [
    {
     "name": "stdout",
     "output_type": "stream",
     "text": [
      "20/20 [==============================] - 20s 1s/step\n"
     ]
    },
    {
     "data": {
      "text/plain": [
       "array([[0.78846645],\n",
       "       [0.718188  ],\n",
       "       [0.846129  ],\n",
       "       [0.64539707],\n",
       "       [0.88982904],\n",
       "       [0.846129  ],\n",
       "       [0.48921198],\n",
       "       [0.7658114 ],\n",
       "       [0.8554429 ],\n",
       "       [0.8282568 ],\n",
       "       [0.2374105 ],\n",
       "       [0.67518985],\n",
       "       [0.20049445],\n",
       "       [0.6043703 ],\n",
       "       [0.20385756],\n",
       "       [0.87960225],\n",
       "       [0.492195  ],\n",
       "       [0.5957947 ],\n",
       "       [0.833088  ],\n",
       "       [0.7347689 ]], dtype=float32)"
      ]
     },
     "execution_count": 47,
     "metadata": {},
     "output_type": "execute_result"
    }
   ],
   "source": [
    "model.predict(validation_dataset)"
   ]
  },
  {
   "cell_type": "code",
   "execution_count": 5,
   "metadata": {},
   "outputs": [
    {
     "name": "stdout",
     "output_type": "stream",
     "text": [
      "1/1 [==============================] - 3s 3s/step\n"
     ]
    }
   ],
   "source": [
    "import cv2\n",
    "\n",
    "tf_model_predictions=tf.keras.models.load_model('image-model.h5')\n",
    "img = cv2.imread(\"E:\\\\GSoC\\\\ct_imaging\\\\ML_MODEL\\\\dataset\\\\validation\\\\cancer\\\\ID_0047_AGE_0069_CONTRAST_1_CT.jpg\")\n",
    "img = cv2.resize(img, (512,512))\n",
    "img = img.reshape(1,512,512,3)\n",
    "\n",
    "classes = tf_model_predictions.predict(img)"
   ]
  },
  {
   "cell_type": "code",
   "execution_count": 6,
   "metadata": {},
   "outputs": [
    {
     "data": {
      "text/plain": [
       "array([[0.0256956]], dtype=float32)"
      ]
     },
     "execution_count": 6,
     "metadata": {},
     "output_type": "execute_result"
    }
   ],
   "source": [
    "classes"
   ]
  },
  {
   "cell_type": "code",
   "execution_count": 15,
   "metadata": {},
   "outputs": [],
   "source": [
    "import tensorflow_hub as hub\n",
    "import tensorflow as tf\n",
    "\n",
    "def predict(image_path):\n",
    "    model_h5 = tf.keras.models.load_model(\n",
    "        './image-model.h5', custom_objects={'KerasLayer': hub.KerasLayer})\n",
    "\n",
    "    img = cv2.imread(image_path)\n",
    "    img = cv2.resize(img, (512,512))\n",
    "    img = img.reshape(1,512,512,3)\n",
    "    pred90 = model_h5.predict(img)  \n",
    "    val = ''\n",
    "    pred90 = pred90[0][0]*100\n",
    "    if pred90 < 90.0:\n",
    "        val = 'Normal'\n",
    "    else:\n",
    "        val = 'Cancer'\n",
    "    \n",
    "    return val"
   ]
  },
  {
   "cell_type": "code",
   "execution_count": 17,
   "metadata": {},
   "outputs": [
    {
     "name": "stdout",
     "output_type": "stream",
     "text": [
      "1/1 [==============================] - 1s 1s/step\n"
     ]
    }
   ],
   "source": [
    "val=predict(\"E:\\\\GSoC\\\\ct_imaging\\\\ML_MODEL\\\\dataset\\\\validation\\\\cancer\\\\ID_0047_AGE_0069_CONTRAST_1_CT.jpg\")"
   ]
  },
  {
   "cell_type": "code",
   "execution_count": 18,
   "metadata": {},
   "outputs": [
    {
     "data": {
      "text/plain": [
       "'Normal'"
      ]
     },
     "execution_count": 18,
     "metadata": {},
     "output_type": "execute_result"
    }
   ],
   "source": [
    "val"
   ]
  },
  {
   "cell_type": "code",
   "execution_count": null,
   "metadata": {},
   "outputs": [],
   "source": []
  }
 ],
 "metadata": {
  "kernelspec": {
   "display_name": "Python 3.9.7 64-bit (system)",
   "language": "python",
   "name": "python3"
  },
  "language_info": {
   "codemirror_mode": {
    "name": "ipython",
    "version": 3
   },
   "file_extension": ".py",
   "mimetype": "text/x-python",
   "name": "python",
   "nbconvert_exporter": "python",
   "pygments_lexer": "ipython3",
   "version": "3.9.7"
  },
  "orig_nbformat": 4,
  "vscode": {
   "interpreter": {
    "hash": "a7d8cb0326397c460ffed8c21d27be62f953c3ebe23192199009c94721ac0529"
   }
  }
 },
 "nbformat": 4,
 "nbformat_minor": 2
}
