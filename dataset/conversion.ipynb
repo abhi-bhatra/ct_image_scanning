{
 "cells": [
  {
   "cell_type": "code",
   "execution_count": null,
   "metadata": {},
   "outputs": [],
   "source": [
    "import pydicom\n",
    "ds = pydicom.dcmread('archive\\dicom_dir\\ID_0001_AGE_0069_CONTRAST_1_CT.dcm')"
   ]
  },
  {
   "cell_type": "code",
   "execution_count": null,
   "metadata": {},
   "outputs": [],
   "source": [
    "import numpy as np\n",
    "from PIL import Image\n",
    "new_image = ds.pixel_array.astype(float)\n",
    "scaled_image = (np.maximum(new_image, 0) / new_image.max()) * 255.0\n",
    "scaled_image = np.uint8(scaled_image)\n",
    "final_image = Image.fromarray(scaled_image)"
   ]
  },
  {
   "cell_type": "code",
   "execution_count": null,
   "metadata": {},
   "outputs": [],
   "source": [
    "# final_image.save('temp\\ID_0001_AGE_0069_CONTRAST_1_CT.jpg')\n",
    "final_image.save('temp\\me.jpg')"
   ]
  },
  {
   "cell_type": "code",
   "execution_count": null,
   "metadata": {},
   "outputs": [],
   "source": [
    "import pydicom\n",
    "import numpy as np\n",
    "from PIL import Image\n",
    "import os\n",
    "# Convert all DICOM files in a directory to PNG \n",
    "def dicom_to_jpeg():\n",
    "    dicom_dir = \"C:\\\\Users\\\\Lenovo\\\\Downloads\\\\case3\\\\case3\"\n",
    "    for filename in os.listdir(dicom_dir):\n",
    "        if filename.endswith(\".dcm\"):\n",
    "            ds = pydicom.dcmread(dicom_dir + '\\\\' + filename)\n",
    "            new_image = ds.pixel_array.astype(float)\n",
    "            scaled_image = (np.maximum(new_image, 0) / new_image.max()) * 255.0\n",
    "            scaled_image = np.uint8(scaled_image)\n",
    "            final_image = Image.fromarray(scaled_image)\n",
    "            final_image.save('chest-ct\\\\' + filename[:-4] + '.jpg')\n",
    "            print(filename)"
   ]
  },
  {
   "cell_type": "code",
   "execution_count": null,
   "metadata": {},
   "outputs": [],
   "source": [
    "dicom_to_jpeg()"
   ]
  },
  {
   "cell_type": "code",
   "execution_count": null,
   "metadata": {},
   "outputs": [],
   "source": [
    "from keras.models import load_model\n",
    "from PIL import Image, ImageOps\n",
    "import numpy as np\n",
    "\n",
    "model = load_model('dicom_class_model.h5')\n",
    "\n",
    "data = np.ndarray(shape=(1, 224, 224, 3), dtype=np.float32)\n",
    "# Replace this with the path to your image\n",
    "image = Image.open('temp\\me.jpg')\n",
    "\n",
    "size = (224, 224)\n",
    "image = ImageOps.fit(image, size, Image.ANTIALIAS)\n",
    "\n",
    "image_array = np.asarray(image)\n",
    "\n",
    "normalized_image_array = (image_array.astype(np.float32) / 127.0) - 1\n",
    "\n",
    "data[0] = normalized_image_array\n",
    "\n",
    "prediction = model.predict(data)\n",
    "print(prediction)"
   ]
  },
  {
   "cell_type": "code",
   "execution_count": 11,
   "metadata": {},
   "outputs": [
    {
     "name": "stdout",
     "output_type": "stream",
     "text": [
      "Group Length  UL: 524296\n",
      "Specific Character Set  CS: 'ISO_IR 100'\n",
      "Image Type  CS: ['ORIGINAL', 'PRIMARY', 'AXIAL']\n",
      "SOP Class UID  UI: CT Image Storage\n",
      "SOP Instance UID  UI: 1.3.6.1.4.1.14519.5.2.1.7777.9002.184912220734460823585918206046\n",
      "Study Date  DA: '19820630'\n",
      "Series Date  DA: '19820630'\n",
      "Acquisition Date  DA: '19820630'\n",
      "Content Date  DA: '19820630'\n",
      "Study Time  TM: '134257.000000'\n",
      "Series Time  TM: '135135.242000'\n",
      "Acquisition Time  TM: '135311.581000'\n",
      "Content Time  TM: '135259.355000'\n",
      "Data Set Type  US: 0\n",
      "Data Set Subtype  LO: 'IMA SPI'\n",
      "Accession Number  SH: '2819497684894126'\n",
      "Modality  CS: 'CT'\n",
      "Manufacturer  LO: 'SIEMENS'\n",
      "Referring Physician's Name  PN: ''\n",
      "Station Name  SH: ''\n",
      "Manufacturer's Model Name  LO: 'SOMATOM PLUS 4'\n",
      "Private Creator  UN: b'\\x14\\x00\\x00\\x00'\n",
      "Private tag data  LO: 'SIEMENS MED'\n",
      "Patient's Name  PN: 'TCGA-17-Z011'\n",
      "Patient ID  LO: 'TCGA-17-Z011'\n",
      "Patient's Birth Date  DA: ''\n",
      "Patient's Sex  CS: 'M'\n",
      "Patient's Age  AS: '069Y'\n",
      "Patient Identity Removed  CS: 'YES'\n",
      "De-identification Method  LO: 'Per DICOM PS 3.15 AnnexE. Details in 0012,0064'\n",
      "De-identification Method Code Seque SQ: <Sequence, length 8>\n",
      "Body Part Examined  CS: 'CHEST'\n",
      "Scanning Sequence  CS: 'RM'\n",
      "Slice Thickness  DS: '8.0'\n",
      "KVP  DS: '140.0'\n",
      "Data Collection Diameter  DS: '500.0'\n",
      "Device Serial Number  LO: ' 20643'\n",
      "Software Versions  LO: 'VB40W'\n",
      "Distance Source to Detector  DS: '1005.0'\n",
      "Distance Source to Patient  DS: '570.0'\n",
      "Gantry/Detector Tilt  DS: '0.0'\n",
      "Table Height  DS: '145.0'\n",
      "Rotation Direction  CS: 'CW'\n",
      "Exposure Time  IS: '750'\n",
      "X-Ray Tube Current  IS: '206'\n",
      "Exposure  IS: '155'\n",
      "Generator Power  IS: '29'\n",
      "Focal Spot(s)  DS: '1.2'\n",
      "Date of Last Calibration  DA: '19820625'\n",
      "Time of Last Calibration  TM: '064936.226000'\n",
      "Convolution Kernel  SH: '59 .10.AB50'\n",
      "Patient Position  CS: 'HFS'\n",
      "[Osteo Regression Line Slope]  DS: '0.979'\n",
      "[Osteo Regression Line Intercept]  DS: '-1.42'\n",
      "[Feed per Rotation]  DS: '8.0'\n",
      "[Pulmo Water]  DS: '2.154907'\n",
      "[Pulmo Air]  DS: '-992.9709'\n",
      "[Pulmo Time]  TM: '201523.000000'\n",
      "Study Instance UID  UI: 1.3.6.1.4.1.14519.5.2.1.7777.9002.242742387344636595876380532248\n",
      "Series Instance UID  UI: 1.3.6.1.4.1.14519.5.2.1.7777.9002.106684271246229903146411807044\n",
      "Study ID  SH: ''\n",
      "Series Number  IS: '5'\n",
      "Acquisition Number  IS: '3'\n",
      "Instance Number  IS: '20'\n",
      "Image Position  DS: [-01.616777E+02, -1.536777E+02, -2.200000E+02]\n",
      "Image Position (Patient)  DS: [-162, -154, -220]\n",
      "Image Orientation  DS: [001.000000E+00, 00.000000E+00, 00.000000E+00, 00.000000E+00, 01.000000E+00, 00.000000E+00]\n",
      "Image Orientation (Patient)  DS: [1, 0, 0, 0, 1, 0]\n",
      "Location  DS: '-220.0'\n",
      "Frame of Reference UID  UI: 1.3.6.1.4.1.14519.5.2.1.7777.9002.310204220180758725811422776776\n",
      "Image Geometry Type  LO: 'PLANAR'\n",
      "Masking Image  CS: ''\n",
      "Position Reference Indicator  LO: ''\n",
      "Slice Location  DS: '-220.0'\n",
      "Source Image IDs  CS: ''\n",
      "Modified Image ID  CS: ''\n",
      "Modified Image Date  DA: ''\n",
      "Modified Image Time  TM: ''\n",
      "Original Image Identification  AT: None\n",
      "Original Image Identification Nomen LO: ''\n",
      "Samples per Pixel  US: 1\n",
      "Photometric Interpretation  CS: 'MONOCHROME2'\n",
      "Image Dimensions  US: 2\n",
      "Rows  US: 512\n",
      "Columns  US: 512\n",
      "Pixel Spacing  DS: [006.445312e-01, 006.445312e-01]\n",
      "Image Format  CS: 'RECT'\n",
      "Manipulated Image  LO: ''\n",
      "Compression Code  CS: 'NONE'\n",
      "Bits Allocated  US: 16\n",
      "Bits Stored  US: 12\n",
      "High Bit  US: 11\n",
      "Pixel Representation  US: 0\n",
      "Image Location  US: 32736\n",
      "Burned In Annotation  CS: 'NO'\n",
      "Longitudinal Temporal Information M CS: 'MODIFIED'\n",
      "Window Center  DS: [000010, -0550]\n",
      "Window Width  DS: [000400, 01800]\n",
      "Rescale Intercept  DS: '-1024.0'\n",
      "Rescale Slope  DS: '1.0'\n",
      "Study Comments  LT: ''\n",
      "Requested Procedure Priority  SH: ''\n",
      "Pixel Data  OW: Array of 524288 elements\n"
     ]
    }
   ],
   "source": [
    "import pydicom as dicom\n",
    "import re\n",
    "\n",
    "def read_dicom(img_path):\n",
    "    ds = dicom.dcmread(img_path)\n",
    "    parameters=[]\n",
    "    for i in ds:\n",
    "        parameters.append(str(i))\n",
    "    new_para=[]\n",
    "    for i in parameters:\n",
    "        new_para.append(i[13:])\n",
    "    dict_item = {re.sub(' +', ' ', i[:35]):re.sub(' +', ' ', i[36:]) for i in new_para}\n",
    "    return dict_item\n",
    "\n",
    "new_ls=read_dicom('archive\\dicom_dir\\ID_0001_AGE_0069_CONTRAST_1_CT.dcm')\n",
    "for key, value in new_ls.items():\n",
    "    print(key, value)"
   ]
  },
  {
   "cell_type": "code",
   "execution_count": null,
   "metadata": {},
   "outputs": [],
   "source": []
  }
 ],
 "metadata": {
  "kernelspec": {
   "display_name": "Python 3.9.7 64-bit (system)",
   "language": "python",
   "name": "python3"
  },
  "language_info": {
   "codemirror_mode": {
    "name": "ipython",
    "version": 3
   },
   "file_extension": ".py",
   "mimetype": "text/x-python",
   "name": "python",
   "nbconvert_exporter": "python",
   "pygments_lexer": "ipython3",
   "version": "3.9.7"
  },
  "orig_nbformat": 4,
  "vscode": {
   "interpreter": {
    "hash": "a7d8cb0326397c460ffed8c21d27be62f953c3ebe23192199009c94721ac0529"
   }
  }
 },
 "nbformat": 4,
 "nbformat_minor": 2
}
